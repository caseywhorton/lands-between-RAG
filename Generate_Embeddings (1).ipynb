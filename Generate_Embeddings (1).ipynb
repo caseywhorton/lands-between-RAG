{
 "cells": [
  {
   "cell_type": "markdown",
   "id": "63cdf8e5-f2f6-45f3-b0c1-5e55bd0ebba1",
   "metadata": {},
   "source": [
    "# Generate Embeddings"
   ]
  },
  {
   "cell_type": "code",
   "execution_count": 3,
   "id": "46176edd-b64b-4b00-841c-53e532454326",
   "metadata": {
    "collapsed": true,
    "jupyter": {
     "outputs_hidden": true
    }
   },
   "outputs": [
    {
     "name": "stdout",
     "output_type": "stream",
     "text": [
      "Collecting sentence-transformers\n",
      "  Downloading sentence_transformers-3.4.1-py3-none-any.whl.metadata (10 kB)\n",
      "Requirement already satisfied: transformers<5.0.0,>=4.41.0 in /opt/conda/lib/python3.11/site-packages (from sentence-transformers) (4.48.3)\n",
      "Requirement already satisfied: tqdm in /opt/conda/lib/python3.11/site-packages (from sentence-transformers) (4.67.1)\n",
      "Requirement already satisfied: torch>=1.11.0 in /opt/conda/lib/python3.11/site-packages (from sentence-transformers) (2.4.1.post100)\n",
      "Requirement already satisfied: scikit-learn in /opt/conda/lib/python3.11/site-packages (from sentence-transformers) (1.5.2)\n",
      "Requirement already satisfied: scipy in /opt/conda/lib/python3.11/site-packages (from sentence-transformers) (1.15.1)\n",
      "Requirement already satisfied: huggingface-hub>=0.20.0 in /opt/conda/lib/python3.11/site-packages (from sentence-transformers) (0.28.0)\n",
      "Requirement already satisfied: Pillow in /opt/conda/lib/python3.11/site-packages (from sentence-transformers) (11.1.0)\n",
      "Requirement already satisfied: filelock in /opt/conda/lib/python3.11/site-packages (from huggingface-hub>=0.20.0->sentence-transformers) (3.17.0)\n",
      "Requirement already satisfied: fsspec>=2023.5.0 in /opt/conda/lib/python3.11/site-packages (from huggingface-hub>=0.20.0->sentence-transformers) (2024.10.0)\n",
      "Requirement already satisfied: packaging>=20.9 in /opt/conda/lib/python3.11/site-packages (from huggingface-hub>=0.20.0->sentence-transformers) (24.2)\n",
      "Requirement already satisfied: pyyaml>=5.1 in /opt/conda/lib/python3.11/site-packages (from huggingface-hub>=0.20.0->sentence-transformers) (6.0.2)\n",
      "Requirement already satisfied: requests in /opt/conda/lib/python3.11/site-packages (from huggingface-hub>=0.20.0->sentence-transformers) (2.32.3)\n",
      "Requirement already satisfied: typing-extensions>=3.7.4.3 in /opt/conda/lib/python3.11/site-packages (from huggingface-hub>=0.20.0->sentence-transformers) (4.12.2)\n",
      "Requirement already satisfied: sympy in /opt/conda/lib/python3.11/site-packages (from torch>=1.11.0->sentence-transformers) (1.13.3)\n",
      "Requirement already satisfied: networkx in /opt/conda/lib/python3.11/site-packages (from torch>=1.11.0->sentence-transformers) (3.4.2)\n",
      "Requirement already satisfied: jinja2 in /opt/conda/lib/python3.11/site-packages (from torch>=1.11.0->sentence-transformers) (3.1.5)\n",
      "Requirement already satisfied: numpy>=1.17 in /opt/conda/lib/python3.11/site-packages (from transformers<5.0.0,>=4.41.0->sentence-transformers) (1.26.4)\n",
      "Requirement already satisfied: regex!=2019.12.17 in /opt/conda/lib/python3.11/site-packages (from transformers<5.0.0,>=4.41.0->sentence-transformers) (2024.11.6)\n",
      "Requirement already satisfied: tokenizers<0.22,>=0.21 in /opt/conda/lib/python3.11/site-packages (from transformers<5.0.0,>=4.41.0->sentence-transformers) (0.21.0)\n",
      "Requirement already satisfied: safetensors>=0.4.1 in /opt/conda/lib/python3.11/site-packages (from transformers<5.0.0,>=4.41.0->sentence-transformers) (0.5.2)\n",
      "Requirement already satisfied: joblib>=1.2.0 in /opt/conda/lib/python3.11/site-packages (from scikit-learn->sentence-transformers) (1.4.2)\n",
      "Requirement already satisfied: threadpoolctl>=3.1.0 in /opt/conda/lib/python3.11/site-packages (from scikit-learn->sentence-transformers) (3.5.0)\n",
      "Requirement already satisfied: MarkupSafe>=2.0 in /opt/conda/lib/python3.11/site-packages (from jinja2->torch>=1.11.0->sentence-transformers) (3.0.2)\n",
      "Requirement already satisfied: charset_normalizer<4,>=2 in /opt/conda/lib/python3.11/site-packages (from requests->huggingface-hub>=0.20.0->sentence-transformers) (3.4.1)\n",
      "Requirement already satisfied: idna<4,>=2.5 in /opt/conda/lib/python3.11/site-packages (from requests->huggingface-hub>=0.20.0->sentence-transformers) (3.10)\n",
      "Requirement already satisfied: urllib3<3,>=1.21.1 in /opt/conda/lib/python3.11/site-packages (from requests->huggingface-hub>=0.20.0->sentence-transformers) (1.26.19)\n",
      "Requirement already satisfied: certifi>=2017.4.17 in /opt/conda/lib/python3.11/site-packages (from requests->huggingface-hub>=0.20.0->sentence-transformers) (2024.12.14)\n",
      "Requirement already satisfied: mpmath<1.4,>=1.1.0 in /opt/conda/lib/python3.11/site-packages (from sympy->torch>=1.11.0->sentence-transformers) (1.3.0)\n",
      "Downloading sentence_transformers-3.4.1-py3-none-any.whl (275 kB)\n",
      "Installing collected packages: sentence-transformers\n",
      "Successfully installed sentence-transformers-3.4.1\n",
      "Note: you may need to restart the kernel to use updated packages.\n"
     ]
    }
   ],
   "source": [
    "pip install sentence-transformers\n",
    "pip install pinecone"
   ]
  },
  {
   "cell_type": "markdown",
   "id": "6fb6b14e-0b8e-4013-a594-c720e383f41a",
   "metadata": {},
   "source": [
    "## Pinecone Client"
   ]
  },
  {
   "cell_type": "code",
   "execution_count": 25,
   "id": "890139ab-d590-4c05-9eb4-bf8024a2a488",
   "metadata": {},
   "outputs": [
    {
     "name": "stderr",
     "output_type": "stream",
     "text": [
      "No sentence-transformers model found with name bert-base-uncased. Creating a new one with mean pooling.\n"
     ]
    },
    {
     "name": "stdout",
     "output_type": "stream",
     "text": [
      "Upsert into pineceone.\n",
      "Processed 391 files and inserted embeddings into Pinecone.\n"
     ]
    }
   ],
   "source": [
    "from pinecone import Pinecone\n",
    "import boto3\n",
    "from sentence_transformers import SentenceTransformer\n",
    "import json\n",
    "import os\n",
    "from pinecone import (\n",
    "    Pinecone,\n",
    "    ServerlessSpec,\n",
    "    CloudProvider,\n",
    "    AwsRegion,\n",
    "    Metric,\n",
    "    DeletionProtection,\n",
    "    VectorType\n",
    ")\n",
    "\n",
    "# Initialize Pinecone and AWS\n",
    "pc = Pinecone(api_key=os.environ.get('PINECONE_API_KEY'),\n",
    "              environment=\"us-east1-aws\")\n",
    "\n",
    "s3_client = boto3.client('s3')\n",
    "\n",
    "# Define the Pinecone index name and embeddings dimension\n",
    "index_name = 'lands-between-index'\n",
    "embedding_dimension = 768  # Update based on the embedding model you're using (e.g., 768 for BERT)\n",
    "\n",
    "# Create the Pinecone index if it doesn't exist\n",
    "if not any(index['name'] == index_name for index in pc.list_indexes()):\n",
    "    pc.create_index(index_name, \n",
    "                    dimension=embedding_dimension,\n",
    "                    spec=ServerlessSpec(cloud=CloudProvider.AWS,\n",
    "                                        region=AwsRegion.US_EAST_1)\n",
    "                   )\n",
    "\n",
    "# Create an index instance\n",
    "index = pc.Index(index_name)\n",
    "\n",
    "# Load the pre-trained SentenceTransformer model\n",
    "model = SentenceTransformer('bert-base-uncased')  # You can use any SentenceTransformer model\n",
    "\n",
    "\n",
    "def retrieve_s3_files(bucket_name, prefix):\n",
    "    \"\"\" Retrieve list of text file keys from an S3 bucket \"\"\"\n",
    "    response = s3_client.list_objects_v2(Bucket=bucket_name, Prefix=prefix)\n",
    "    return [item['Key'] for item in response.get('Contents', []) if item['Key'].endswith('.txt')]\n",
    "\n",
    "\n",
    "def read_s3_file(bucket_name, file_key):\n",
    "    \"\"\" Read a file from S3 and return its content \"\"\"\n",
    "    response = s3_client.get_object(Bucket=bucket_name, Key=file_key)\n",
    "    return response['Body'].read().decode('utf-8')\n",
    "\n",
    "\n",
    "def generate_embeddings(text_data):\n",
    "    \"\"\" Generate embeddings for a given text \"\"\"\n",
    "    return model.encode(text_data).tolist()\n",
    "\n",
    "\n",
    "def insert_into_pinecone(embeddings, metadatas):\n",
    "    # Use string for id (convert integers to strings)\n",
    "    vectors = [\n",
    "        {\"id\": str(i), \"values\": embedding, \"metadata\": metadata} \n",
    "        for i, (embedding, metadata) in enumerate(zip(embeddings, metadatas))\n",
    "    ]\n",
    "\n",
    "    # Upsert the vectors\n",
    "    index.upsert(vectors=vectors)\n",
    "\n",
    "\n",
    "def process_s3_files(bucket_name, prefix):\n",
    "    \"\"\" Process S3 files, generate embeddings, and store them in Pinecone \"\"\"\n",
    "\n",
    "    file_keys = retrieve_s3_files(bucket_name, prefix)\n",
    "\n",
    "    all_embeddings = []\n",
    "    all_metadatas = []\n",
    "    \n",
    "    for file_key in file_keys:\n",
    "        #print(f\"Generating Embeddings for {file_key}\")\n",
    "        text_data = read_s3_file(bucket_name, file_key)\n",
    "        embeddings = generate_embeddings(text_data)\n",
    "\n",
    "        # Create metadata for each embedding (you can include other info here if needed)\n",
    "        metadata = {\"file_name\": file_key}\n",
    "\n",
    "        all_embeddings.append(embeddings)\n",
    "        all_metadatas.append(metadata)\n",
    "    print(\"Upsert into pineceone.\")\n",
    "    # Insert the embeddings into Pinecone\n",
    "    insert_into_pinecone(all_embeddings, all_metadatas)\n",
    "\n",
    "    print(f\"Processed {len(all_embeddings)} files and inserted embeddings into Pinecone.\")\n",
    "\n",
    "# Example usage\n",
    "S3_BUCKET_NAME = 'webscrape-lands-between'\n",
    "PREFIX = \"scraped_data\"\n",
    "process_s3_files(S3_BUCKET_NAME, PREFIX)\n"
   ]
  },
  {
   "cell_type": "code",
   "execution_count": null,
   "id": "a67721db-36b6-4a78-8e3c-1865ac62103a",
   "metadata": {},
   "outputs": [],
   "source": []
  }
 ],
 "metadata": {
  "kernelspec": {
   "display_name": "Python 3 (ipykernel)",
   "language": "python",
   "name": "python3"
  },
  "language_info": {
   "codemirror_mode": {
    "name": "ipython",
    "version": 3
   },
   "file_extension": ".py",
   "mimetype": "text/x-python",
   "name": "python",
   "nbconvert_exporter": "python",
   "pygments_lexer": "ipython3",
   "version": "3.11.11"
  }
 },
 "nbformat": 4,
 "nbformat_minor": 5
}
